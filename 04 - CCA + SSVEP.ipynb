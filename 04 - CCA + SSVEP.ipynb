{
 "cells": [
  {
   "cell_type": "markdown",
   "metadata": {},
   "source": [
    "# Part 4: Canonical correlation analysis on SSVEP dataset\n",
    "\n",
    "Welcome to the fourth part.  In this part, we shall try canonical correlation analysis on SSVEP.  SSVEP is a very simple neuro paradigm where the brain frequency will resemble to the frequency of the attended stimuli.  For example, if I am looking at a circle flicking at 6Hz, my brain signal will oscillate at 6Hz as well."
   ]
  },
  {
   "cell_type": "code",
   "execution_count": 1,
   "metadata": {},
   "outputs": [],
   "source": [
    "import pandas as pd\n",
    "import numpy as np\n",
    "import matplotlib.pyplot as plt\n",
    "\n",
    "import mne\n",
    "from mne import create_info\n",
    "from mne.io import RawArray\n",
    "from mne.time_frequency import psd_welch"
   ]
  },
  {
   "cell_type": "markdown",
   "metadata": {},
   "source": [
    "## 1. Loading the data"
   ]
  },
  {
   "cell_type": "code",
   "execution_count": 2,
   "metadata": {},
   "outputs": [],
   "source": [
    "df = pd.read_csv('data/ssvep-20trials-3s-chaky-bigsquare.csv')"
   ]
  },
  {
   "cell_type": "code",
   "execution_count": 3,
   "metadata": {},
   "outputs": [
    {
     "data": {
      "text/plain": [
       "(62436, 10)"
      ]
     },
     "execution_count": 3,
     "metadata": {},
     "output_type": "execute_result"
    }
   ],
   "source": [
    "df.shape #check the size of 0"
   ]
  },
  {
   "cell_type": "markdown",
   "metadata": {},
   "source": [
    "Let's rename our channel"
   ]
  },
  {
   "cell_type": "code",
   "execution_count": 4,
   "metadata": {},
   "outputs": [],
   "source": [
    "df.rename(columns={'Unnamed: 1':'O1','Unnamed: 2':'Oz', 'Unnamed: 3':'O2'}, inplace=True)"
   ]
  },
  {
   "cell_type": "code",
   "execution_count": 5,
   "metadata": {},
   "outputs": [
    {
     "data": {
      "text/html": [
       "<div>\n",
       "<style scoped>\n",
       "    .dataframe tbody tr th:only-of-type {\n",
       "        vertical-align: middle;\n",
       "    }\n",
       "\n",
       "    .dataframe tbody tr th {\n",
       "        vertical-align: top;\n",
       "    }\n",
       "\n",
       "    .dataframe thead th {\n",
       "        text-align: right;\n",
       "    }\n",
       "</style>\n",
       "<table border=\"1\" class=\"dataframe\">\n",
       "  <thead>\n",
       "    <tr style=\"text-align: right;\">\n",
       "      <th></th>\n",
       "      <th>timestamps</th>\n",
       "      <th>O1</th>\n",
       "      <th>Oz</th>\n",
       "      <th>O2</th>\n",
       "      <th>Unnamed: 4</th>\n",
       "      <th>Unnamed: 5</th>\n",
       "      <th>Unnamed: 6</th>\n",
       "      <th>Unnamed: 7</th>\n",
       "      <th>Unnamed: 8</th>\n",
       "      <th>Marker</th>\n",
       "    </tr>\n",
       "  </thead>\n",
       "  <tbody>\n",
       "    <tr>\n",
       "      <th>0</th>\n",
       "      <td>62389.150</td>\n",
       "      <td>38956.250</td>\n",
       "      <td>27233.611</td>\n",
       "      <td>44154.887</td>\n",
       "      <td>187500.0</td>\n",
       "      <td>-187500.016</td>\n",
       "      <td>-187500.016</td>\n",
       "      <td>-187500.016</td>\n",
       "      <td>-187500.016</td>\n",
       "      <td>0</td>\n",
       "    </tr>\n",
       "    <tr>\n",
       "      <th>1</th>\n",
       "      <td>62389.150</td>\n",
       "      <td>39004.645</td>\n",
       "      <td>27278.182</td>\n",
       "      <td>44197.668</td>\n",
       "      <td>187500.0</td>\n",
       "      <td>-187500.016</td>\n",
       "      <td>-187500.016</td>\n",
       "      <td>-187500.016</td>\n",
       "      <td>-187500.016</td>\n",
       "      <td>0</td>\n",
       "    </tr>\n",
       "    <tr>\n",
       "      <th>2</th>\n",
       "      <td>62389.151</td>\n",
       "      <td>39005.805</td>\n",
       "      <td>27278.383</td>\n",
       "      <td>44199.301</td>\n",
       "      <td>187500.0</td>\n",
       "      <td>-187500.016</td>\n",
       "      <td>-187500.016</td>\n",
       "      <td>-187500.016</td>\n",
       "      <td>-187500.016</td>\n",
       "      <td>0</td>\n",
       "    </tr>\n",
       "    <tr>\n",
       "      <th>3</th>\n",
       "      <td>62389.152</td>\n",
       "      <td>38978.270</td>\n",
       "      <td>27251.068</td>\n",
       "      <td>44177.395</td>\n",
       "      <td>187500.0</td>\n",
       "      <td>-187500.016</td>\n",
       "      <td>-187500.016</td>\n",
       "      <td>-187500.016</td>\n",
       "      <td>-187500.016</td>\n",
       "      <td>0</td>\n",
       "    </tr>\n",
       "    <tr>\n",
       "      <th>4</th>\n",
       "      <td>62389.152</td>\n",
       "      <td>38944.137</td>\n",
       "      <td>27219.082</td>\n",
       "      <td>44149.145</td>\n",
       "      <td>187500.0</td>\n",
       "      <td>-187500.016</td>\n",
       "      <td>-187500.016</td>\n",
       "      <td>-187500.016</td>\n",
       "      <td>-187500.016</td>\n",
       "      <td>0</td>\n",
       "    </tr>\n",
       "  </tbody>\n",
       "</table>\n",
       "</div>"
      ],
      "text/plain": [
       "   timestamps         O1         Oz         O2  Unnamed: 4  Unnamed: 5  \\\n",
       "0   62389.150  38956.250  27233.611  44154.887    187500.0 -187500.016   \n",
       "1   62389.150  39004.645  27278.182  44197.668    187500.0 -187500.016   \n",
       "2   62389.151  39005.805  27278.383  44199.301    187500.0 -187500.016   \n",
       "3   62389.152  38978.270  27251.068  44177.395    187500.0 -187500.016   \n",
       "4   62389.152  38944.137  27219.082  44149.145    187500.0 -187500.016   \n",
       "\n",
       "   Unnamed: 6  Unnamed: 7  Unnamed: 8  Marker  \n",
       "0 -187500.016 -187500.016 -187500.016       0  \n",
       "1 -187500.016 -187500.016 -187500.016       0  \n",
       "2 -187500.016 -187500.016 -187500.016       0  \n",
       "3 -187500.016 -187500.016 -187500.016       0  \n",
       "4 -187500.016 -187500.016 -187500.016       0  "
      ]
     },
     "execution_count": 5,
     "metadata": {},
     "output_type": "execute_result"
    }
   ],
   "source": [
    "df.head()"
   ]
  },
  {
   "cell_type": "markdown",
   "metadata": {},
   "source": [
    "Let's drop the channel we did not use."
   ]
  },
  {
   "cell_type": "code",
   "execution_count": 6,
   "metadata": {},
   "outputs": [],
   "source": [
    "df = df.drop([\"timestamps\", \"Unnamed: 4\", \"Unnamed: 5\", \"Unnamed: 6\", \"Unnamed: 7\", \"Unnamed: 8\"], axis=1)"
   ]
  },
  {
   "cell_type": "code",
   "execution_count": 7,
   "metadata": {},
   "outputs": [
    {
     "data": {
      "text/html": [
       "<div>\n",
       "<style scoped>\n",
       "    .dataframe tbody tr th:only-of-type {\n",
       "        vertical-align: middle;\n",
       "    }\n",
       "\n",
       "    .dataframe tbody tr th {\n",
       "        vertical-align: top;\n",
       "    }\n",
       "\n",
       "    .dataframe thead th {\n",
       "        text-align: right;\n",
       "    }\n",
       "</style>\n",
       "<table border=\"1\" class=\"dataframe\">\n",
       "  <thead>\n",
       "    <tr style=\"text-align: right;\">\n",
       "      <th></th>\n",
       "      <th>O1</th>\n",
       "      <th>Oz</th>\n",
       "      <th>O2</th>\n",
       "      <th>Marker</th>\n",
       "    </tr>\n",
       "  </thead>\n",
       "  <tbody>\n",
       "    <tr>\n",
       "      <th>0</th>\n",
       "      <td>38956.250</td>\n",
       "      <td>27233.611</td>\n",
       "      <td>44154.887</td>\n",
       "      <td>0</td>\n",
       "    </tr>\n",
       "    <tr>\n",
       "      <th>1</th>\n",
       "      <td>39004.645</td>\n",
       "      <td>27278.182</td>\n",
       "      <td>44197.668</td>\n",
       "      <td>0</td>\n",
       "    </tr>\n",
       "    <tr>\n",
       "      <th>2</th>\n",
       "      <td>39005.805</td>\n",
       "      <td>27278.383</td>\n",
       "      <td>44199.301</td>\n",
       "      <td>0</td>\n",
       "    </tr>\n",
       "    <tr>\n",
       "      <th>3</th>\n",
       "      <td>38978.270</td>\n",
       "      <td>27251.068</td>\n",
       "      <td>44177.395</td>\n",
       "      <td>0</td>\n",
       "    </tr>\n",
       "    <tr>\n",
       "      <th>4</th>\n",
       "      <td>38944.137</td>\n",
       "      <td>27219.082</td>\n",
       "      <td>44149.145</td>\n",
       "      <td>0</td>\n",
       "    </tr>\n",
       "  </tbody>\n",
       "</table>\n",
       "</div>"
      ],
      "text/plain": [
       "          O1         Oz         O2  Marker\n",
       "0  38956.250  27233.611  44154.887       0\n",
       "1  39004.645  27278.182  44197.668       0\n",
       "2  39005.805  27278.383  44199.301       0\n",
       "3  38978.270  27251.068  44177.395       0\n",
       "4  38944.137  27219.082  44149.145       0"
      ]
     },
     "execution_count": 7,
     "metadata": {},
     "output_type": "execute_result"
    }
   ],
   "source": [
    "df.head()"
   ]
  },
  {
   "cell_type": "markdown",
   "metadata": {},
   "source": [
    "So in our dataset, we got three targets flashing at 6Hz, 10Hz, and 15Hz.  Each target happens 10 times.  They are represented by label of 1, 2, 3 respectively."
   ]
  },
  {
   "cell_type": "code",
   "execution_count": 8,
   "metadata": {},
   "outputs": [
    {
     "name": "stdout",
     "output_type": "stream",
     "text": [
      "(20, 4)\n",
      "(20, 4)\n",
      "(20, 4)\n"
     ]
    }
   ],
   "source": [
    "print(df[df.Marker==2].shape) #10hz\n",
    "print(df[df.Marker==1].shape) #6hz\n",
    "print(df[df.Marker==3].shape) #15hz"
   ]
  },
  {
   "cell_type": "code",
   "execution_count": 9,
   "metadata": {},
   "outputs": [
    {
     "data": {
      "text/html": [
       "<div>\n",
       "<style scoped>\n",
       "    .dataframe tbody tr th:only-of-type {\n",
       "        vertical-align: middle;\n",
       "    }\n",
       "\n",
       "    .dataframe tbody tr th {\n",
       "        vertical-align: top;\n",
       "    }\n",
       "\n",
       "    .dataframe thead th {\n",
       "        text-align: right;\n",
       "    }\n",
       "</style>\n",
       "<table border=\"1\" class=\"dataframe\">\n",
       "  <thead>\n",
       "    <tr style=\"text-align: right;\">\n",
       "      <th></th>\n",
       "      <th>O1</th>\n",
       "      <th>Oz</th>\n",
       "      <th>O2</th>\n",
       "      <th>Marker</th>\n",
       "    </tr>\n",
       "  </thead>\n",
       "  <tbody>\n",
       "    <tr>\n",
       "      <th>3502</th>\n",
       "      <td>39410.773</td>\n",
       "      <td>27877.766</td>\n",
       "      <td>45026.629</td>\n",
       "      <td>3</td>\n",
       "    </tr>\n",
       "    <tr>\n",
       "      <th>6523</th>\n",
       "      <td>39726.336</td>\n",
       "      <td>28277.191</td>\n",
       "      <td>45611.887</td>\n",
       "      <td>3</td>\n",
       "    </tr>\n",
       "    <tr>\n",
       "      <th>9544</th>\n",
       "      <td>40148.473</td>\n",
       "      <td>28786.275</td>\n",
       "      <td>46270.840</td>\n",
       "      <td>3</td>\n",
       "    </tr>\n",
       "    <tr>\n",
       "      <th>12580</th>\n",
       "      <td>40494.566</td>\n",
       "      <td>29369.209</td>\n",
       "      <td>46862.020</td>\n",
       "      <td>3</td>\n",
       "    </tr>\n",
       "    <tr>\n",
       "      <th>15601</th>\n",
       "      <td>40471.680</td>\n",
       "      <td>29290.598</td>\n",
       "      <td>47066.648</td>\n",
       "      <td>3</td>\n",
       "    </tr>\n",
       "    <tr>\n",
       "      <th>18623</th>\n",
       "      <td>41030.492</td>\n",
       "      <td>29709.939</td>\n",
       "      <td>47910.137</td>\n",
       "      <td>3</td>\n",
       "    </tr>\n",
       "    <tr>\n",
       "      <th>21644</th>\n",
       "      <td>41887.215</td>\n",
       "      <td>30636.396</td>\n",
       "      <td>48849.848</td>\n",
       "      <td>3</td>\n",
       "    </tr>\n",
       "    <tr>\n",
       "      <th>24665</th>\n",
       "      <td>41506.543</td>\n",
       "      <td>30342.336</td>\n",
       "      <td>48827.363</td>\n",
       "      <td>3</td>\n",
       "    </tr>\n",
       "    <tr>\n",
       "      <th>27700</th>\n",
       "      <td>41632.316</td>\n",
       "      <td>30459.996</td>\n",
       "      <td>49022.582</td>\n",
       "      <td>3</td>\n",
       "    </tr>\n",
       "    <tr>\n",
       "      <th>30721</th>\n",
       "      <td>41729.230</td>\n",
       "      <td>30484.383</td>\n",
       "      <td>49195.586</td>\n",
       "      <td>3</td>\n",
       "    </tr>\n",
       "    <tr>\n",
       "      <th>33742</th>\n",
       "      <td>42148.773</td>\n",
       "      <td>31121.631</td>\n",
       "      <td>49834.914</td>\n",
       "      <td>3</td>\n",
       "    </tr>\n",
       "    <tr>\n",
       "      <th>36764</th>\n",
       "      <td>42540.934</td>\n",
       "      <td>31580.914</td>\n",
       "      <td>50115.496</td>\n",
       "      <td>3</td>\n",
       "    </tr>\n",
       "    <tr>\n",
       "      <th>39785</th>\n",
       "      <td>42526.227</td>\n",
       "      <td>31597.074</td>\n",
       "      <td>50363.176</td>\n",
       "      <td>3</td>\n",
       "    </tr>\n",
       "    <tr>\n",
       "      <th>42820</th>\n",
       "      <td>42519.879</td>\n",
       "      <td>31379.928</td>\n",
       "      <td>50146.383</td>\n",
       "      <td>3</td>\n",
       "    </tr>\n",
       "    <tr>\n",
       "      <th>45842</th>\n",
       "      <td>43143.023</td>\n",
       "      <td>32423.709</td>\n",
       "      <td>50732.449</td>\n",
       "      <td>3</td>\n",
       "    </tr>\n",
       "    <tr>\n",
       "      <th>48863</th>\n",
       "      <td>43674.660</td>\n",
       "      <td>32731.225</td>\n",
       "      <td>51191.441</td>\n",
       "      <td>3</td>\n",
       "    </tr>\n",
       "    <tr>\n",
       "      <th>51885</th>\n",
       "      <td>43852.691</td>\n",
       "      <td>32890.504</td>\n",
       "      <td>51433.688</td>\n",
       "      <td>3</td>\n",
       "    </tr>\n",
       "    <tr>\n",
       "      <th>54906</th>\n",
       "      <td>43968.184</td>\n",
       "      <td>32739.271</td>\n",
       "      <td>51408.988</td>\n",
       "      <td>3</td>\n",
       "    </tr>\n",
       "    <tr>\n",
       "      <th>57929</th>\n",
       "      <td>45557.281</td>\n",
       "      <td>34772.027</td>\n",
       "      <td>53030.723</td>\n",
       "      <td>3</td>\n",
       "    </tr>\n",
       "    <tr>\n",
       "      <th>60962</th>\n",
       "      <td>44397.516</td>\n",
       "      <td>33343.172</td>\n",
       "      <td>51907.254</td>\n",
       "      <td>3</td>\n",
       "    </tr>\n",
       "  </tbody>\n",
       "</table>\n",
       "</div>"
      ],
      "text/plain": [
       "              O1         Oz         O2  Marker\n",
       "3502   39410.773  27877.766  45026.629       3\n",
       "6523   39726.336  28277.191  45611.887       3\n",
       "9544   40148.473  28786.275  46270.840       3\n",
       "12580  40494.566  29369.209  46862.020       3\n",
       "15601  40471.680  29290.598  47066.648       3\n",
       "18623  41030.492  29709.939  47910.137       3\n",
       "21644  41887.215  30636.396  48849.848       3\n",
       "24665  41506.543  30342.336  48827.363       3\n",
       "27700  41632.316  30459.996  49022.582       3\n",
       "30721  41729.230  30484.383  49195.586       3\n",
       "33742  42148.773  31121.631  49834.914       3\n",
       "36764  42540.934  31580.914  50115.496       3\n",
       "39785  42526.227  31597.074  50363.176       3\n",
       "42820  42519.879  31379.928  50146.383       3\n",
       "45842  43143.023  32423.709  50732.449       3\n",
       "48863  43674.660  32731.225  51191.441       3\n",
       "51885  43852.691  32890.504  51433.688       3\n",
       "54906  43968.184  32739.271  51408.988       3\n",
       "57929  45557.281  34772.027  53030.723       3\n",
       "60962  44397.516  33343.172  51907.254       3"
      ]
     },
     "execution_count": 9,
     "metadata": {},
     "output_type": "execute_result"
    }
   ],
   "source": [
    "df[df.Marker==3]"
   ]
  },
  {
   "cell_type": "markdown",
   "metadata": {},
   "source": [
    "## 2. Transform Data into Raw MNE object"
   ]
  },
  {
   "cell_type": "code",
   "execution_count": 10,
   "metadata": {},
   "outputs": [],
   "source": [
    "def df_to_raw(df):\n",
    "    sfreq = 125  #our OpenBCI headset sampling rate\n",
    "    ch_names = list(df.columns)\n",
    "    ch_types = ['eeg'] * (len(df.columns) - 1) + ['stim']\n",
    "    ten_twenty_montage = mne.channels.make_standard_montage('standard_1020')\n",
    "\n",
    "    df = df.T  #mne looks at the tranpose() format\n",
    "    df[:-1] *= 1e-6  #convert from uVolts to Volts (mne assumes Volts data)\n",
    "\n",
    "    info = create_info(ch_names=ch_names, ch_types=ch_types, sfreq=sfreq)\n",
    "\n",
    "    raw = mne.io.RawArray(df, info)\n",
    "    raw.set_montage(ten_twenty_montage)   \n",
    "\n",
    "    return raw"
   ]
  },
  {
   "cell_type": "code",
   "execution_count": 11,
   "metadata": {},
   "outputs": [
    {
     "name": "stdout",
     "output_type": "stream",
     "text": [
      "Creating RawArray with float64 data, n_channels=4, n_times=62436\n",
      "    Range : 0 ... 62435 =      0.000 ...   499.480 secs\n",
      "Ready.\n"
     ]
    }
   ],
   "source": [
    "raw = df_to_raw(df)"
   ]
  },
  {
   "cell_type": "code",
   "execution_count": 12,
   "metadata": {},
   "outputs": [
    {
     "name": "stdout",
     "output_type": "stream",
     "text": [
      "Effective window size : 2.048 (s)\n"
     ]
    },
    {
     "name": "stderr",
     "output_type": "stream",
     "text": [
      "/Users/chaklam/DSAI/Environments/teaching_env/lib/python3.8/site-packages/mne/viz/utils.py:137: UserWarning: Matplotlib is currently using module://ipykernel.pylab.backend_inline, which is a non-GUI backend, so cannot show the figure.\n",
      "  (fig or plt).show(**kwargs)\n"
     ]
    },
    {
     "data": {
      "image/png": "[encoded data removed]",
      "text/plain": [
       "<MNELineFigure size 720x252 with 2 Axes>"
      ]
     },
     "execution_count": 12,
     "metadata": {},
     "output_type": "execute_result"
    }
   ],
   "source": [
    " raw.compute_psd().plot()"
   ]
  },
  {
   "cell_type": "markdown",
   "metadata": {},
   "source": [
    "## 3. Preprocessing"
   ]
  },
  {
   "cell_type": "markdown",
   "metadata": {},
   "source": [
    "### Notch Filter"
   ]
  },
  {
   "cell_type": "markdown",
   "metadata": {},
   "source": [
    "Power-line noise is a noise created by the electrical network. It is composed of sharp peaks at 50Hz (or 60Hz depending on your geographical location). Some peaks may also be present at the harmonic frequencies, i.e. the integer multiples of the power-line frequency, e.g. 100Hz, 150Hz, … (or 120Hz, 180Hz, …).\n",
    "\n",
    "Remove the 50Hz power line noise in Thailand.  We will also be remove its harmonics, i.e., 100Hz, 150Hz, etc.  Since our signal is 125Hz (250Hz / 2 according to Nyquist Theorem), we shall run the harmonics until 125 Hz."
   ]
  },
  {
   "cell_type": "code",
   "execution_count": 13,
   "metadata": {},
   "outputs": [
    {
     "name": "stdout",
     "output_type": "stream",
     "text": [
      "Setting up band-stop filter\n",
      "\n",
      "FIR filter parameters\n",
      "---------------------\n",
      "Designing a one-pass, zero-phase, non-causal bandstop filter:\n",
      "- Windowed time-domain design (firwin) method\n",
      "- Hamming window with 0.0194 passband ripple and 53 dB stopband attenuation\n",
      "- Lower transition bandwidth: 0.50 Hz\n",
      "- Upper transition bandwidth: 0.50 Hz\n",
      "- Filter length: 825 samples (6.600 sec)\n",
      "\n",
      "Effective window size : 2.048 (s)\n"
     ]
    },
    {
     "name": "stderr",
     "output_type": "stream",
     "text": [
      "[Parallel(n_jobs=1)]: Using backend SequentialBackend with 1 concurrent workers.\n",
      "[Parallel(n_jobs=1)]: Done   1 out of   1 | elapsed:    0.0s remaining:    0.0s\n",
      "[Parallel(n_jobs=1)]: Done   2 out of   2 | elapsed:    0.0s remaining:    0.0s\n",
      "[Parallel(n_jobs=1)]: Done   3 out of   3 | elapsed:    0.0s remaining:    0.0s\n",
      "[Parallel(n_jobs=1)]: Done   3 out of   3 | elapsed:    0.0s finished\n",
      "/Users/chaklam/DSAI/Environments/teaching_env/lib/python3.8/site-packages/mne/viz/utils.py:137: UserWarning: Matplotlib is currently using module://ipykernel.pylab.backend_inline, which is a non-GUI backend, so cannot show the figure.\n",
      "  (fig or plt).show(**kwargs)\n"
     ]
    },
    {
     "data": {
      "image/png": "[encoded data removed]",
      "text/plain": [
       "<MNELineFigure size 720x252 with 2 Axes>"
      ]
     },
     "execution_count": 13,
     "metadata": {},
     "output_type": "execute_result"
    }
   ],
   "source": [
    "raw.notch_filter([25, 50], filter_length='auto', phase='zero') #250/2 based on Nyquist Theorem\n",
    "#observe that the 50Hz noise is now gone, yay!\n",
    "raw.compute_psd().plot()"
   ]
  },
  {
   "cell_type": "markdown",
   "metadata": {},
   "source": [
    "### Band pass filter"
   ]
  },
  {
   "cell_type": "code",
   "execution_count": 14,
   "metadata": {},
   "outputs": [
    {
     "name": "stdout",
     "output_type": "stream",
     "text": [
      "Filtering raw data in 1 contiguous segment\n",
      "Setting up band-pass filter from 4 - 62 Hz\n",
      "\n",
      "IIR filter parameters\n",
      "---------------------\n",
      "Butterworth bandpass zero-phase (two-pass forward and reverse) non-causal filter:\n",
      "- Filter order 16 (effective, after forward-backward)\n",
      "- Cutoffs at 4.00, 62.00 Hz: -6.02, -6.02 dB\n",
      "\n",
      "Effective window size : 2.048 (s)\n"
     ]
    },
    {
     "name": "stderr",
     "output_type": "stream",
     "text": [
      "/Users/chaklam/DSAI/Environments/teaching_env/lib/python3.8/site-packages/mne/viz/utils.py:137: UserWarning: Matplotlib is currently using module://ipykernel.pylab.backend_inline, which is a non-GUI backend, so cannot show the figure.\n",
      "  (fig or plt).show(**kwargs)\n"
     ]
    },
    {
     "data": {
      "image/png": "[encoded data removed]",
      "text/plain": [
       "<MNELineFigure size 720x252 with 2 Axes>"
      ]
     },
     "execution_count": 14,
     "metadata": {},
     "output_type": "execute_result"
    }
   ],
   "source": [
    "#since we use 6hz, 10hz, and 15hz, \n",
    "#we will take five harmonics, which maximum freq is 15 x 4 = 60\n",
    "#we will take +- 2 at each end, thus 6-2 = 4, and 60+2 = 62\n",
    "#these numbers are made up by me; you can try different numberes\n",
    "raw.filter(4, 62, method='iir')\n",
    "\n",
    "#this should also automatically remove any slow drift under 1Hz\n",
    "raw.compute_psd().plot()"
   ]
  },
  {
   "cell_type": "markdown",
   "metadata": {},
   "source": [
    "## 3. Epoching"
   ]
  },
  {
   "cell_type": "code",
   "execution_count": 15,
   "metadata": {},
   "outputs": [],
   "source": [
    "from mne import Epochs, find_events\n",
    "\n",
    "def getEpochs(raw, event_id, tmin, tmax, picks):\n",
    "\n",
    "    #epoching\n",
    "    events = find_events(raw)\n",
    "    epochs = Epochs(raw, events=events, event_id=event_id, \n",
    "                    tmin=tmin, tmax=tmax, baseline=None, preload=True,verbose=False, picks=picks)  #8 channels\n",
    "    print('sample drop %: ', (1 - len(epochs.events)/len(events)) * 100)\n",
    "\n",
    "    return epochs"
   ]
  },
  {
   "cell_type": "code",
   "execution_count": 16,
   "metadata": {},
   "outputs": [
    {
     "name": "stdout",
     "output_type": "stream",
     "text": [
      "60 events found\n",
      "Event IDs: [1 2 3]\n",
      "sample drop %:  0.0\n"
     ]
    }
   ],
   "source": [
    "#this one requires expertise to specify the right tmin, tmax\n",
    "event_id = {'6Hz': 1, '10Hz' : 2, '15Hz' : 3}\n",
    "tmin=-0.5\n",
    "tmax=3\n",
    "eeg_channels = mne.pick_types(raw.info, eeg=True)\n",
    "picks= eeg_channels\n",
    "epochs = getEpochs(raw, event_id, tmin, tmax, picks=picks)"
   ]
  },
  {
   "cell_type": "markdown",
   "metadata": {},
   "source": [
    "## 4. Checking stimuli-specific PSD"
   ]
  },
  {
   "cell_type": "code",
   "execution_count": 17,
   "metadata": {
    "scrolled": false
   },
   "outputs": [
    {
     "name": "stdout",
     "output_type": "stream",
     "text": [
      "Effective window size : 8.224 (s)\n",
      "Effective window size : 8.224 (s)\n",
      "Effective window size : 8.224 (s)\n"
     ]
    },
    {
     "name": "stderr",
     "output_type": "stream",
     "text": [
      "<decorator-gen-321>:4: FutureWarning: NOTE: psd_welch() is a deprecated function. Function ``psd_welch()`` is deprecated; for Raw/Epochs/Evoked instances use ``spectrum = instance.compute_psd(method=\"welch\")`` instead, followed by ``spectrum.get_data(return_freqs=True)``.\n",
      "[Parallel(n_jobs=1)]: Using backend SequentialBackend with 1 concurrent workers.\n",
      "[Parallel(n_jobs=1)]: Done   1 out of   1 | elapsed:    0.0s remaining:    0.0s\n",
      "[Parallel(n_jobs=1)]: Done   1 out of   1 | elapsed:    0.0s finished\n",
      "[Parallel(n_jobs=1)]: Using backend SequentialBackend with 1 concurrent workers.\n",
      "[Parallel(n_jobs=1)]: Done   1 out of   1 | elapsed:    0.0s remaining:    0.0s\n",
      "[Parallel(n_jobs=1)]: Done   1 out of   1 | elapsed:    0.0s finished\n",
      "[Parallel(n_jobs=1)]: Using backend SequentialBackend with 1 concurrent workers.\n",
      "[Parallel(n_jobs=1)]: Done   1 out of   1 | elapsed:    0.0s remaining:    0.0s\n",
      "[Parallel(n_jobs=1)]: Done   1 out of   1 | elapsed:    0.0s finished\n"
     ]
    },
    {
     "data": {
      "image/png": "[encoded data removed]",
      "text/plain": [
       "<MNELineFigure size 720x252 with 2 Axes>"
      ]
     },
     "metadata": {
      "needs_background": "light"
     },
     "output_type": "display_data"
    },
    {
     "data": {
      "image/png": "[encoded data removed]",
      "text/plain": [
       "<MNELineFigure size 720x252 with 2 Axes>"
      ]
     },
     "metadata": {
      "needs_background": "light"
     },
     "output_type": "display_data"
    },
    {
     "data": {
      "image/png": "[encoded data removed]",
      "text/plain": [
       "<MNELineFigure size 720x252 with 2 Axes>"
      ]
     },
     "metadata": {
      "needs_background": "light"
     },
     "output_type": "display_data"
    },
    {
     "data": {
      "image/png": "[encoded data removed]",
      "text/plain": [
       "<Figure size 720x288 with 1 Axes>"
      ]
     },
     "metadata": {
      "needs_background": "light"
     },
     "output_type": "display_data"
    }
   ],
   "source": [
    "fig = plt.figure(figsize=(10, 4))\n",
    "\n",
    "axes = fig.add_axes([0.1, 0.1, 0.8, 0.8]) # left, bottom, width, height (range 0 to 1)\n",
    "\n",
    "psd1, freq1 = psd_welch(epochs['6Hz'], n_fft=1028, n_per_seg=256 * 3)\n",
    "psd2, freq2 = psd_welch(epochs['10Hz'], n_fft=1028, n_per_seg=256 * 3)\n",
    "psd3, freq3 = psd_welch(epochs['15Hz'], n_fft=1028, n_per_seg=256 * 3)\n",
    "\n",
    "logpsd1 = 10 * np.log10(psd1)\n",
    "logpsd2 = 10 * np.log10(psd2)\n",
    "logpsd3 = 10 * np.log10(psd3)\n",
    "\n",
    "log_psd1_mean = logpsd1.mean(0)\n",
    "log_psd1_std = logpsd1.mean(0)\n",
    "\n",
    "log_psd2_mean = logpsd2.mean(0)\n",
    "log_psd2_std = logpsd2.mean(0)\n",
    "\n",
    "log_psd3_mean = logpsd3.mean(0)\n",
    "log_psd3_std = logpsd3.mean(0)\n",
    "\n",
    "axes.plot(freq1, log_psd1_mean[[0,2], :].mean(0), color='b', label='6Hz')\n",
    "axes.plot(freq2, log_psd2_mean[[0,2], :].mean(0), color='r', label='10Hz')\n",
    "axes.plot(freq2, log_psd3_mean[[0,2], :].mean(0), color='g', label='15Hz')\n",
    "\n",
    "axes.set_title('')\n",
    "axes.set_ylabel('Power Spectral Density (dB)')\n",
    "axes.set_xlim(4, 30)\n",
    "axes.set_ylim(-170, -100)\n",
    "axes.legend()\n",
    "\n",
    "plt.show()"
   ]
  },
  {
   "cell_type": "markdown",
   "metadata": {},
   "source": [
    "As we can see, we can see the stimuli specific PSDs oscillating at its frequencies and harmonics."
   ]
  },
  {
   "cell_type": "markdown",
   "metadata": {},
   "source": [
    "## 5. Canonical Correlation Analysis\n",
    "\n",
    "Canonical correlation analysis is likely the most standard process to analyze which stimuli belongs to which frequency.  Even it is a very old technique, but it works great here.\n",
    "\n",
    "Note: The code below may look hard, but once you look closely, it's not really hard."
   ]
  },
  {
   "cell_type": "code",
   "execution_count": 18,
   "metadata": {},
   "outputs": [],
   "source": [
    "import scipy\n",
    "from scipy.stats import pearsonr, mode\n",
    "from sklearn.cross_decomposition import CCA"
   ]
  },
  {
   "cell_type": "markdown",
   "metadata": {},
   "source": [
    "First, we shall create a function that would help us filter each sub-band.\n",
    "\n",
    "For example, we can try the band of 4Hz to 8Hz, and then do a correlation.\n",
    "\n",
    "This filterbank is much more accurate than non-filterbank version."
   ]
  },
  {
   "cell_type": "code",
   "execution_count": 19,
   "metadata": {},
   "outputs": [],
   "source": [
    "def filterbank(eeg, fs, idx_fb):    \n",
    "    if idx_fb == None:\n",
    "        warnings.warn('stats:filterbank:MissingInput '\\\n",
    "                          +'Missing filter index. Default value (idx_fb = 0) will be used.')\n",
    "        idx_fb = 0\n",
    "    elif (idx_fb < 0 or 9 < idx_fb):\n",
    "        raise ValueError('stats:filterbank:InvalidInput '\\\n",
    "                          +'The number of sub-bands must be 0 <= idx_fb <= 9.')\n",
    "            \n",
    "    if (len(eeg.shape)==2):\n",
    "        num_chans = eeg.shape[0]\n",
    "        num_trials = 1\n",
    "    else:\n",
    "        _, num_chans, num_trials = eeg.shape\n",
    "    \n",
    "    # Nyquist Frequency = Fs/2N\n",
    "    Nq = fs/2\n",
    "    \n",
    "    passband = [6, 14, 22, 30, 38, 46, 54, 62, 70, 78]\n",
    "    stopband = [4, 10, 16, 24, 32, 40, 48, 56, 64, 72]\n",
    "    Wp = [passband[idx_fb]/Nq, 90/Nq]\n",
    "    \n",
    "    #print(\"Wp: \", Wp)\n",
    "    Ws = [stopband[idx_fb]/Nq, 100/Nq]\n",
    "    \n",
    "    #print(\"Ws: \", Ws)\n",
    "    [N, Wn] = scipy.signal.cheb1ord(Wp, Ws, 3, 40) # band pass filter StopBand=[Ws(1)~Ws(2)] PassBand=[Wp(1)~Wp(2)]\n",
    "    [B, A] = scipy.signal.cheby1(N, 0.5, Wn, 'bandpass') # Wn passband edge frequency\n",
    "    \n",
    "    y = np.zeros(eeg.shape)\n",
    "    \n",
    "    if (num_trials == 1):\n",
    "        for ch_i in range(num_chans):\n",
    "            #apply filter, zero phass filtering by applying a linear filter twice, once forward and once backwards.\n",
    "            # to match matlab result we need to change padding length\n",
    "            y[ch_i, :] = scipy.signal.filtfilt(B, A, eeg[ch_i, :])\n",
    "        \n",
    "    else:\n",
    "        for trial_i in range(num_trials):\n",
    "            for ch_i in range(num_chans):\n",
    "                y[:, ch_i, trial_i] = scipy.signal.filtfilt(B, A, eeg[:, ch_i, trial_i])           \n",
    "    return y"
   ]
  },
  {
   "cell_type": "markdown",
   "metadata": {},
   "source": [
    "Second, we shall create a function that would simply create a repeating sin and cos wave representing our target frequencies.  We need to do this because we need to do a correlation between our given signal, and this reference signal."
   ]
  },
  {
   "cell_type": "code",
   "execution_count": 20,
   "metadata": {},
   "outputs": [],
   "source": [
    "def cca_reference(list_freqs, fs, num_smpls, num_harms=3):\n",
    "    num_freqs = len(list_freqs)\n",
    "    tidx = np.arange(1, num_smpls + 1) / fs  # time index\n",
    "\n",
    "    y_ref = np.zeros((num_freqs, 2 * num_harms, num_smpls))\n",
    "    for freq_i in range(num_freqs):\n",
    "        tmp = []\n",
    "        for harm_i in range(1, num_harms + 1):\n",
    "            stim_freq = list_freqs[freq_i]  # in HZ\n",
    "            # Sin and Cos\n",
    "            tmp.extend([np.sin(2 * np.pi * tidx * harm_i * stim_freq),\n",
    "                        np.cos(2 * np.pi * tidx * harm_i * stim_freq)])\n",
    "        y_ref[freq_i] = tmp  # 2*num_harms because include both sin and cos\n",
    "\n",
    "    return y_ref"
   ]
  },
  {
   "cell_type": "markdown",
   "metadata": {},
   "source": [
    "Here, we shall find the correlation between the given signal and the reference frequency signal, by looping across events, and filterbanks."
   ]
  },
  {
   "cell_type": "code",
   "execution_count": 21,
   "metadata": {},
   "outputs": [],
   "source": [
    "def fbcca(eeg, list_freqs, fs, num_harms=3, num_fbs=5):\n",
    "    fb_coefs = np.power(np.arange(1, num_fbs + 1), (-1.25)) + 0.25\n",
    "\n",
    "    num_targs = len(list_freqs)\n",
    "    events, _, num_smpls = eeg.shape  # 40 taget (means 40 fre-phase combination that we want to predict)\n",
    "    y_ref = cca_reference(list_freqs, fs, num_smpls, num_harms)\n",
    "    cca = CCA(n_components=1)  # initilize CCA\n",
    "\n",
    "    # result matrix\n",
    "    r = np.zeros((num_fbs, num_targs))\n",
    "    results = np.zeros(num_targs)\n",
    "    r_mode = []\n",
    "    r_corr_avg = []\n",
    "\n",
    "    for event in range(eeg.shape[0]):\n",
    "        test_tmp = np.squeeze(eeg[event, :, :])  # deal with one event a time\n",
    "        for fb_i in range(num_fbs):  # filter bank number, deal with different filter bank\n",
    "            for class_i in range(num_targs):\n",
    "                testdata = filterbank(test_tmp, fs, fb_i)  # data after filtering\n",
    "                refdata = np.squeeze(y_ref[class_i, :, :])  # pick corresponding freq target reference signal\n",
    "                test_C, ref_C = cca.fit_transform(testdata.T, refdata.T)\n",
    "                # len(row) = len(observation), len(column) = variables of each observation\n",
    "                # number of rows should be the same, so need transpose here\n",
    "                # output is the highest correlation linear combination of two sets\n",
    "                r_tmp, _ = pearsonr(np.squeeze(test_C),\n",
    "                                    np.squeeze(ref_C))  # return r and p_value, use np.squeeze to adapt the API\n",
    "                if r_tmp == np.nan:\n",
    "                    r_tmp = 0\n",
    "                r[fb_i, class_i] = r_tmp\n",
    "        rho = np.dot(fb_coefs, r)  # weighted sum of r from all different filter banks' result\n",
    "        print(\"rho: \", rho)\n",
    "        result = np.argmax(rho)\n",
    "        print(\"result: \", result)\n",
    "        r_mode.append(result)\n",
    "        print(\"correlation: \", abs(rho[result]))\n",
    "        r_corr_avg.append(abs(rho[result]))\n",
    "    print(\"====Most recurrent class: ====\", mode(r_mode)[0][0])\n",
    "    print(\"====Average correlation: =====\", np.mean(r_corr_avg))\n"
   ]
  },
  {
   "cell_type": "markdown",
   "metadata": {},
   "source": [
    "Now that we have our code, let's find the correlation between our signal and the three given frequencies."
   ]
  },
  {
   "cell_type": "code",
   "execution_count": 22,
   "metadata": {},
   "outputs": [
    {
     "name": "stdout",
     "output_type": "stream",
     "text": [
      "6hz: =============================================\n",
      "rho:  [0.25755617 0.33524926 0.65949178]\n",
      "result:  2\n",
      "correlation:  0.6594917796491001\n",
      "rho:  [0.33537148 0.67365617 0.51072422]\n",
      "result:  1\n",
      "correlation:  0.6736561691979026\n",
      "rho:  [0.30174884 0.27414146 0.69992852]\n",
      "result:  2\n",
      "correlation:  0.6999285192845894\n",
      "rho:  [0.48317676 0.39900272 0.43324982]\n",
      "result:  0\n",
      "correlation:  0.4831767572718295\n",
      "rho:  [0.43249231 0.37407133 0.41424319]\n",
      "result:  0\n",
      "correlation:  0.432492312109832\n",
      "rho:  [0.42429458 0.40517765 0.60926208]\n",
      "result:  2\n",
      "correlation:  0.609262081702428\n",
      "rho:  [0.59704393 0.42768495 0.46383847]\n",
      "result:  0\n",
      "correlation:  0.5970439317369973\n",
      "rho:  [0.49651624 0.35864786 0.41599858]\n",
      "result:  0\n",
      "correlation:  0.496516237226185\n",
      "rho:  [0.38550271 0.38116319 0.84524035]\n",
      "result:  2\n",
      "correlation:  0.845240348884251\n",
      "rho:  [0.58889701 0.33992156 0.62875843]\n",
      "result:  2\n",
      "correlation:  0.6287584342271257\n",
      "rho:  [0.5747352  0.50057292 0.48143046]\n",
      "result:  0\n",
      "correlation:  0.574735201636837\n",
      "rho:  [0.57439678 0.51244482 0.38882057]\n",
      "result:  0\n",
      "correlation:  0.5743967752951001\n",
      "rho:  [0.4260211  0.48411959 0.35354072]\n",
      "result:  1\n",
      "correlation:  0.4841195941028981\n",
      "rho:  [0.59613644 0.33859397 0.53001501]\n",
      "result:  0\n",
      "correlation:  0.5961364350776049\n",
      "rho:  [0.60765034 0.50667906 0.42863908]\n",
      "result:  0\n",
      "correlation:  0.6076503415898952\n",
      "rho:  [0.50786287 0.51995506 0.71915393]\n",
      "result:  2\n",
      "correlation:  0.7191539291655478\n",
      "rho:  [0.54166052 0.56910599 0.58607149]\n",
      "result:  2\n",
      "correlation:  0.5860714911204388\n",
      "rho:  [0.69432026 0.50084182 0.52038668]\n",
      "result:  0\n",
      "correlation:  0.6943202640663554\n",
      "rho:  [0.50604214 0.30222192 0.49311289]\n",
      "result:  0\n",
      "correlation:  0.5060421374065825\n",
      "rho:  [0.54183778 0.27544399 0.37274939]\n",
      "result:  0\n",
      "correlation:  0.5418377777703515\n",
      "====Most recurrent class: ==== 0\n",
      "====Average correlation: ===== 0.6005015259260927\n"
     ]
    }
   ],
   "source": [
    "epochs.pick_types(eeg=True)\n",
    "X1 = epochs['6Hz'].get_data()\n",
    "list_freqs = [6, 10, 15]\n",
    "fs = 250\n",
    "num_harms = 2\n",
    "num_fbs = 3\n",
    "\n",
    "print(\"6hz: =============================================\")\n",
    "fbcca(X1, list_freqs, fs, num_harms, num_fbs)"
   ]
  },
  {
   "cell_type": "code",
   "execution_count": 23,
   "metadata": {},
   "outputs": [
    {
     "name": "stdout",
     "output_type": "stream",
     "text": [
      "10hz: ============================================\n",
      "rho:  [0.27389784 0.38697019 0.54021541]\n",
      "result:  2\n",
      "correlation:  0.5402154063334623\n",
      "rho:  [0.24763057 0.69182858 0.47600221]\n",
      "result:  1\n",
      "correlation:  0.6918285762120404\n",
      "rho:  [0.3214901  0.72233308 0.56632934]\n",
      "result:  1\n",
      "correlation:  0.7223330836229409\n",
      "rho:  [0.24155354 0.822824   0.57636536]\n",
      "result:  1\n",
      "correlation:  0.822824002546619\n",
      "rho:  [0.2760871  0.78861588 0.59215937]\n",
      "result:  1\n",
      "correlation:  0.7886158778797348\n",
      "rho:  [0.29513864 0.6067264  0.71938128]\n",
      "result:  2\n",
      "correlation:  0.7193812835697987\n",
      "rho:  [0.2659797  0.83319776 0.82603717]\n",
      "result:  1\n",
      "correlation:  0.8331977631206164\n",
      "rho:  [0.39473337 0.79742097 0.73616672]\n",
      "result:  1\n",
      "correlation:  0.7974209690435037\n",
      "rho:  [0.27742631 0.82881228 0.53083094]\n",
      "result:  1\n",
      "correlation:  0.8288122797359171\n",
      "rho:  [0.25995435 0.90003262 0.36876037]\n",
      "result:  1\n",
      "correlation:  0.9000326226714541\n",
      "rho:  [0.28066453 0.78811473 0.54326428]\n",
      "result:  1\n",
      "correlation:  0.7881147313815834\n",
      "rho:  [0.13797428 0.7240168  0.76323804]\n",
      "result:  2\n",
      "correlation:  0.7632380441673463\n",
      "rho:  [0.33028409 0.85534154 0.66050354]\n",
      "result:  1\n",
      "correlation:  0.8553415373573892\n",
      "rho:  [0.25818227 0.95851746 0.47697101]\n",
      "result:  1\n",
      "correlation:  0.9585174553368604\n",
      "rho:  [0.28804203 0.94624583 0.50408515]\n",
      "result:  1\n",
      "correlation:  0.9462458321197372\n",
      "rho:  [0.39551273 0.91831099 0.66224287]\n",
      "result:  1\n",
      "correlation:  0.9183109856375988\n",
      "rho:  [0.26108013 0.82912679 0.62044161]\n",
      "result:  1\n",
      "correlation:  0.8291267890036573\n",
      "rho:  [0.25571797 0.95611797 0.57075994]\n",
      "result:  1\n",
      "correlation:  0.9561179744205095\n",
      "rho:  [0.33809347 1.01323842 0.574322  ]\n",
      "result:  1\n",
      "correlation:  1.013238422619077\n",
      "rho:  [0.24866084 0.94225081 0.53474879]\n",
      "result:  1\n",
      "correlation:  0.9422508102313708\n",
      "====Most recurrent class: ==== 1\n",
      "====Average correlation: ===== 0.8307582223505608\n"
     ]
    }
   ],
   "source": [
    "X2 = epochs['10Hz'].get_data()\n",
    "print(\"10hz: ============================================\")\n",
    "fbcca(X2, list_freqs, fs, num_harms, num_fbs)"
   ]
  },
  {
   "cell_type": "code",
   "execution_count": 24,
   "metadata": {},
   "outputs": [
    {
     "name": "stdout",
     "output_type": "stream",
     "text": [
      "15hz: ============================================\n",
      "rho:  [0.35933473 0.45682571 0.98039248]\n",
      "result:  2\n",
      "correlation:  0.9803924761690601\n",
      "rho:  [0.35818645 0.497325   0.68968471]\n",
      "result:  2\n",
      "correlation:  0.6896847144595264\n",
      "rho:  [0.21685489 0.4642724  0.87216735]\n",
      "result:  2\n",
      "correlation:  0.872167350521599\n",
      "rho:  [0.26485271 0.43032939 1.0097039 ]\n",
      "result:  2\n",
      "correlation:  1.0097039015616343\n",
      "rho:  [0.30570961 0.62145178 0.86032861]\n",
      "result:  2\n",
      "correlation:  0.8603286116546327\n",
      "rho:  [0.3151057  0.48955774 1.00052901]\n",
      "result:  2\n",
      "correlation:  1.0005290089813326\n",
      "rho:  [0.37629926 0.58318651 1.00534427]\n",
      "result:  2\n",
      "correlation:  1.0053442689881118\n",
      "rho:  [0.19842089 0.40447288 1.10051767]\n",
      "result:  2\n",
      "correlation:  1.100517667767527\n",
      "rho:  [0.23714462 0.41493763 1.19415702]\n",
      "result:  2\n",
      "correlation:  1.1941570179695726\n",
      "rho:  [0.35095736 0.45725111 1.36718694]\n",
      "result:  2\n",
      "correlation:  1.3671869359460103\n",
      "rho:  [0.3299844  0.40493754 1.15171862]\n",
      "result:  2\n",
      "correlation:  1.151718618620872\n",
      "rho:  [0.24771264 0.34838776 1.18617321]\n",
      "result:  2\n",
      "correlation:  1.1861732123344564\n",
      "rho:  [0.19852824 0.39551462 0.95730988]\n",
      "result:  2\n",
      "correlation:  0.9573098804252202\n",
      "rho:  [0.25019735 0.4898721  1.06970085]\n",
      "result:  2\n",
      "correlation:  1.0697008494227302\n",
      "rho:  [0.32437395 0.40967831 1.00372795]\n",
      "result:  2\n",
      "correlation:  1.0037279509053707\n",
      "rho:  [0.37961386 0.64321455 0.73042838]\n",
      "result:  2\n",
      "correlation:  0.7304283840198573\n",
      "rho:  [0.22144774 0.3744802  0.88068295]\n",
      "result:  2\n",
      "correlation:  0.8806829495396779\n",
      "rho:  [0.31697144 0.41253344 0.97153384]\n",
      "result:  2\n",
      "correlation:  0.9715338408506403\n",
      "rho:  [0.31042033 0.45694726 1.12661298]\n",
      "result:  2\n",
      "correlation:  1.126612984759732\n",
      "rho:  [0.28568547 0.48850595 1.20394107]\n",
      "result:  2\n",
      "correlation:  1.2039410679845979\n",
      "====Most recurrent class: ==== 2\n",
      "====Average correlation: ===== 1.0180920846441082\n"
     ]
    }
   ],
   "source": [
    "X3 = epochs['15Hz'].get_data()\n",
    "print(\"15hz: ============================================\")\n",
    "fbcca(X3, list_freqs, fs, num_harms, num_fbs)"
   ]
  },
  {
   "cell_type": "markdown",
   "metadata": {},
   "source": [
    "As you can see, CCA is very powerful in categorizing the SSVEP signal."
   ]
  }
 ],
 "metadata": {
  "kernelspec": {
   "display_name": "Python 3.8.6 ('teaching_env')",
   "language": "python",
   "name": "python3"
  },
  "language_info": {
   "codemirror_mode": {
    "name": "ipython",
    "version": 3
   },
   "file_extension": ".py",
   "mimetype": "text/x-python",
   "name": "python",
   "nbconvert_exporter": "python",
   "pygments_lexer": "ipython3",
   "version": "3.8.6"
  },
  "orig_nbformat": 4,
  "vscode": {
   "interpreter": {
    "hash": "becc4c8e5ad229b2591d820334d85e3db0111492344629bf57f272470dce75a5"
   }
  }
 },
 "nbformat": 4,
 "nbformat_minor": 2
}
